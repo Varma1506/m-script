{
 "cells": [
  {
   "cell_type": "code",
   "execution_count": 15,
   "metadata": {},
   "outputs": [],
   "source": [
    "#!/usr/bin/python\n",
    "# -*- coding: utf-8 -*-\n",
    "\n",
    "import os\n",
    "import csv\n",
    "import shutil\n",
    "from pathlib import Path"
   ]
  },
  {
   "cell_type": "code",
   "execution_count": 16,
   "metadata": {},
   "outputs": [
    {
     "name": "stdout",
     "output_type": "stream",
     "text": [
      "pdb1arz.ent.pdb_fd\n",
      "done\n",
      "pdb1c72.ent.pdb_fd\n",
      "done\n",
      "pdb1c83.ent.pdb_fd\n",
      "done\n",
      "pdb1a99.ent.pdb_fd\n",
      "done\n"
     ]
    }
   ],
   "source": [
    "directory = '../PDB/'\n",
    "main_file = '../PDB/pdb1a99.ent.pdb_fd/1.conf'\n",
    "\n",
    "folders = os.listdir(directory)\n",
    "for folder in folders:\n",
    "    if folder != \".DS_Store\":\n",
    "        print(folder)\n",
    "        \n",
    "        files = os.listdir(directory+folder)\n",
    "        if \"1.conf\" not in files:\n",
    "            fn = \"/1.conf\"\n",
    "            shutil.copy( main_file,directory+folder+fn)\n",
    "            with open(directory + folder + fn, 'r') as file:\n",
    "                # read a list of lines into data\n",
    "                data = file.readlines()\n",
    "            data[4] = data[4].replace('pdb1a99',folder[0:7])\n",
    "            data[5] = data[5].replace('pdb1a99',folder[0:7])\n",
    "            with open(directory + folder + fn, 'w') as file:\n",
    "                file.writelines( data )\n",
    "        print('done')\n",
    "\n",
    "\n"
   ]
  }
 ],
 "metadata": {
  "kernelspec": {
   "display_name": "Python 3.9.6 64-bit",
   "language": "python",
   "name": "python3"
  },
  "language_info": {
   "codemirror_mode": {
    "name": "ipython",
    "version": 3
   },
   "file_extension": ".py",
   "mimetype": "text/x-python",
   "name": "python",
   "nbconvert_exporter": "python",
   "pygments_lexer": "ipython3",
   "version": "3.9.6 (default, Sep 26 2022, 11:37:49) \n[Clang 14.0.0 (clang-1400.0.29.202)]"
  },
  "orig_nbformat": 4,
  "vscode": {
   "interpreter": {
    "hash": "31f2aee4e71d21fbe5cf8b01ff0e069b9275f58929596ceb00d14d90e3e16cd6"
   }
  }
 },
 "nbformat": 4,
 "nbformat_minor": 2
}
